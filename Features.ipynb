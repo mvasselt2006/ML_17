{
 "cells": [
  {
   "cell_type": "code",
   "execution_count": 2,
   "metadata": {},
   "outputs": [],
   "source": [
    "import numpy as np"
   ]
  },
  {
   "cell_type": "code",
   "execution_count": 3,
   "metadata": {},
   "outputs": [],
   "source": [
    "#Load the data\n",
    "data = np.loadtxt(\"mfeat-pix.txt\").reshape(2000,240)\n",
    "\n",
    "\n",
    "#Split data\n",
    "trainPatterns = np.zeros((1000,240))\n",
    "testPatterns = np.zeros((1000,240))\n",
    "for i in range(10):\n",
    "    trainPatterns[i*100:(i+1)*100,:]=data[i*200:(i*200+100),:]\n",
    "    testPatterns[i*100:(i+1)*100,:]=data[(i*200+100):(i*200+200),:]\n",
    "\n",
    "#generate the labels\n",
    "#create indicator matrices size 10 x 1000 with the class labels coded by \n",
    "#binary indicator vectors\n",
    "b = np.ones((1,100))\n",
    "trainLabels = np.zeros((10,1000))\n",
    "for i in range(10):\n",
    "    trainLabels[i,(i*100):((i+1)*100)]=1\n",
    "    \n",
    "testLabels = trainLabels\n",
    "#create a row vector of correct class labels (from 1 ... 10 for the 10 classes). \n",
    "#This vector is the same for training and testing.\n",
    "correctLabels = [b, 2*b, 3*b, 4*b, 5*b, 6*b, 7*b, 8*b, 9*b, 10*b]\n"
   ]
  },
  {
   "cell_type": "markdown",
   "metadata": {},
   "source": [
    "## Create the features"
   ]
  },
  {
   "cell_type": "code",
   "execution_count": null,
   "metadata": {},
   "outputs": [],
   "source": []
  }
 ],
 "metadata": {
  "kernelspec": {
   "display_name": "Python 3",
   "language": "python",
   "name": "python3"
  },
  "language_info": {
   "codemirror_mode": {
    "name": "ipython",
    "version": 3
   },
   "file_extension": ".py",
   "mimetype": "text/x-python",
   "name": "python",
   "nbconvert_exporter": "python",
   "pygments_lexer": "ipython3",
   "version": "3.7.1"
  }
 },
 "nbformat": 4,
 "nbformat_minor": 2
}
