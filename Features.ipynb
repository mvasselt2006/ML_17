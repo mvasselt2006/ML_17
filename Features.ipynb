{
 "cells": [
  {
   "cell_type": "code",
   "execution_count": 3,
   "metadata": {},
   "outputs": [],
   "source": [
    "import numpy as np\n",
    "from sklearn.preprocessing import normalize"
   ]
  },
  {
   "cell_type": "code",
   "execution_count": 4,
   "metadata": {},
   "outputs": [],
   "source": [
    "#Load the data\n",
    "data = np.loadtxt(\"mfeat-pix.txt\").reshape(2000,240)\n",
    "#data = normalize(data, axis=1, norm='l2')\n",
    "\n",
    "\n",
    "#Split data\n",
    "trainPatterns = np.zeros((1000,240))\n",
    "testPatterns = np.zeros((1000,240))\n",
    "for i in range(10):\n",
    "    trainPatterns[i*100:(i+1)*100,:]=data[i*200:(i*200+100),:]\n",
    "    testPatterns[i*100:(i+1)*100,:]=data[(i*200+100):(i*200+200),:]\n",
    "\n",
    "#generate the labels\n",
    "#create indicator matrices size 10 x 1000 with the class labels coded by \n",
    "#binary indicator vectors\n",
    "b = np.ones((1,100))\n",
    "trainLabels = np.zeros((10,1000))\n",
    "for i in range(10):\n",
    "    trainLabels[i,(i*100):((i+1)*100)]=1\n",
    "    \n",
    "testLabels = trainLabels\n",
    "#create a row vector of correct class labels (from 1 ... 10 for the 10 classes). \n",
    "#This vector is the same for training and testing.\n",
    "correctLabels =np.concatenate((b, 2*b, 3*b, 4*b, 5*b, 6*b, 7*b, 8*b, 9*b, 10*b))"
   ]
  },
  {
   "cell_type": "markdown",
   "metadata": {},
   "source": [
    "## Create the features"
   ]
  },
  {
   "cell_type": "code",
   "execution_count": 10,
   "metadata": {},
   "outputs": [],
   "source": [
    "#Prototype matching\n",
    "def prototype(data,labels,prototype):\n",
    "    \"\"\"function which returns a matrix where each column shows the similarity with each prototype.\n",
    "    The prototype taken is the mean of each class\"\"\"\n",
    "    labels=labels.flatten()\n",
    "    match =  np.zeros((1000,10))\n",
    "    for i in range(10):\n",
    "        indices= np.where(labels==(i+1))[0]\n",
    "        if prototype ==\"mean\":\n",
    "            proto = np.mean(data[indices,:],axis=0)\n",
    "        elif prototype == \"median\":\n",
    "            proto = np.median(data[indices,:],axis=0)\n",
    "        for k in range(1000):\n",
    "            match[k,i]=np.dot(proto,data[k,:])/(np.linalg.norm(proto)*np.linalg.norm(data[k,:]))\n",
    "    \n",
    "    return match"
   ]
  },
  {
   "cell_type": "code",
   "execution_count": 12,
   "metadata": {},
   "outputs": [
    {
     "name": "stdout",
     "output_type": "stream",
     "text": [
      "Amount of digits which don't have the closest match with the correct prototype for the mean 72\n",
      "Amount of digits which don't have the closest match with the correct prototype for the median 101\n"
     ]
    }
   ],
   "source": [
    "#Check output\n",
    "Match = prototype(trainPatterns, correctLabels, \"mean\")\n",
    "inx = np.argmax(Match, axis=1)\n",
    "#Check how many digits get a different best matched prototype than their label\n",
    "Diff_proto= (correctLabels.flatten()-(inx+1))\n",
    "numb_diff_proto= np.size((np.where(Diff_proto!=0)[0]))\n",
    "print(\"Amount of digits which don't have the closest match with the correct prototype for the mean\",numb_diff_proto)\n",
    "\n",
    "Match = prototype(trainPatterns, correctLabels, \"median\")\n",
    "inx = np.argmax(Match, axis=1)\n",
    "#Check how many digits get a different best matched prototype than their label\n",
    "Diff_proto= (correctLabels.flatten()-(inx+1))\n",
    "numb_diff_proto= np.size((np.where(Diff_proto!=0)[0]))\n",
    "print(\"Amount of digits which don't have the closest match with the correct prototype for the median\",numb_diff_proto)"
   ]
  },
  {
   "cell_type": "code",
   "execution_count": null,
   "metadata": {},
   "outputs": [],
   "source": []
  }
 ],
 "metadata": {
  "kernelspec": {
   "display_name": "Python 3",
   "language": "python",
   "name": "python3"
  },
  "language_info": {
   "codemirror_mode": {
    "name": "ipython",
    "version": 3
   },
   "file_extension": ".py",
   "mimetype": "text/x-python",
   "name": "python",
   "nbconvert_exporter": "python",
   "pygments_lexer": "ipython3",
   "version": "3.7.1"
  }
 },
 "nbformat": 4,
 "nbformat_minor": 2
}
